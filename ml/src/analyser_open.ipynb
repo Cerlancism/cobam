{
 "cells": [
  {
   "cell_type": "code",
   "execution_count": 1,
   "metadata": {},
   "outputs": [],
   "source": [
    "import os\n",
    "import pandas as pd\n",
    "import re\n",
    "import numpy as np\n",
    "import glob\n",
    "\n",
    "from keras.models import Sequential\n",
    "from keras.layers import Dense, Embedding, LSTM, SpatialDropout1D\n",
    "from sklearn.model_selection import train_test_split\n",
    "from keras.utils.np_utils import to_categorical\n",
    "from tensorflow import keras\n",
    "\n",
    "from keras.preprocessing.text import Tokenizer\n",
    "\n",
    "from keras_preprocessing.sequence import pad_sequences\n",
    "\n",
    "import matplotlib.pyplot as plt\n",
    "\n",
    "import json"
   ]
  },
  {
   "cell_type": "code",
   "execution_count": 11,
   "metadata": {},
   "outputs": [
    {
     "name": "stdout",
     "output_type": "stream",
     "text": [
      "total:  687 importance rate 0.12081513828238719\n"
     ]
    }
   ],
   "source": [
    "# This was used to train and read on the the open source sample code\n",
    "\n",
    "with open('../sample/sample.json', 'r') as f:\n",
    "  data = json.load(f)\n",
    "\n",
    "sections = []\n",
    "importances = []\n",
    "\n",
    "for file in data:\n",
    "    # print(file['name'], len(file['sections']))\n",
    "    for section in file['sections']:\n",
    "        sections.append(section['raw'])\n",
    "        if section['importance'] == True:\n",
    "            importances.append(1)\n",
    "        else:\n",
    "            importances.append(0)\n",
    "\n",
    "print(\"total: \", len(sections), \"importance rate\", sum(importances) / len(sections))"
   ]
  },
  {
   "cell_type": "code",
   "execution_count": 14,
   "metadata": {},
   "outputs": [
    {
     "name": "stdout",
     "output_type": "stream",
     "text": [
      "to 1938\n",
      "move 1595\n",
      "exit 1361\n",
      "map 1114\n",
      "ws 962\n",
      "send 928\n",
      "end 872\n",
      "exec 868\n",
      "3030 714\n",
      "perform 708\n",
      "thru 696\n"
     ]
    }
   ],
   "source": [
    "data = pd.DataFrame({\"section\": sections, \"importances\": importances}, columns=[\"section\", \"importances\"])\n",
    "\n",
    "regex_target = \"[^a-zA-z0-9\\s\\-]\" # include -\n",
    "# regex_target = \"[^a-zA-z0-9\\s]\" # exclude -\n",
    "\n",
    "data['section'] = data['section'].apply((lambda x: re.sub(regex_target,'',x)))\n",
    "\n",
    "max_fatures = 2000\n",
    "tokenizer =  Tokenizer(num_words=max_fatures, split=' ', filters='-!\"#$%&()*+,./:;<=>?@[\\\\]^_`{|}~\\t\\n')\n",
    "tokenizer.fit_on_texts(data['section'].values)\n",
    "X = tokenizer.texts_to_sequences(data['section'].values)\n",
    "X = pad_sequences(X)\n",
    "\n",
    "\n",
    "# data\n",
    "for i in range(11):\n",
    "    word = list(tokenizer.word_index.keys())[i]\n",
    "    count = tokenizer.word_counts[word]\n",
    "    print(word, count)\n",
    "\n",
    "\n"
   ]
  },
  {
   "cell_type": "code",
   "execution_count": 15,
   "metadata": {},
   "outputs": [
    {
     "name": "stdout",
     "output_type": "stream",
     "text": [
      "Train size: 432\n",
      "Val size: 186\n",
      "Test size: 69\n"
     ]
    }
   ],
   "source": [
    "# Y = data['importances'] # for sigmoid\n",
    "Y = pd.get_dummies(data['importances']).values # for softmax\n",
    "X_train, X_test, Y_train, Y_test = train_test_split(X,Y, test_size = 0.1, random_state = 42)\n",
    "X_train, X_val, Y_train, Y_val = train_test_split(X_train, Y_train, test_size = 0.3, random_state = 42)\n",
    "\n",
    "print(\"Train size:\", len(X_train))\n",
    "print(\"Val size:\", len(X_val))\n",
    "print(\"Test size:\", len(X_test))"
   ]
  },
  {
   "cell_type": "code",
   "execution_count": 16,
   "metadata": {},
   "outputs": [
    {
     "name": "stdout",
     "output_type": "stream",
     "text": [
      "Model: \"sequential\"\n",
      "_________________________________________________________________\n",
      " Layer (type)                Output Shape              Param #   \n",
      "=================================================================\n",
      " embedding (Embedding)       (None, 610, 32)           64000     \n",
      "                                                                 \n",
      " spatial_dropout1d (SpatialD  (None, 610, 32)          0         \n",
      " ropout1D)                                                       \n",
      "                                                                 \n",
      " lstm (LSTM)                 (None, 32)                8320      \n",
      "                                                                 \n",
      " dense (Dense)               (None, 2)                 66        \n",
      "                                                                 \n",
      "=================================================================\n",
      "Total params: 72,386\n",
      "Trainable params: 72,386\n",
      "Non-trainable params: 0\n",
      "_________________________________________________________________\n",
      "None\n"
     ]
    }
   ],
   "source": [
    "embed_dim = 32\n",
    "lstm_out = 32\n",
    "\n",
    "model = Sequential()\n",
    "model.add(Embedding(max_fatures, embed_dim, input_length = X.shape[1]))\n",
    "model.add(SpatialDropout1D(0.4))\n",
    "# model.add(LSTM(lstm_out, dropout=0.2, recurrent_dropout=0.2))\n",
    "model.add(LSTM(lstm_out, dropout=0.3))\n",
    "model.add(Dense(2,activation='softmax'))\n",
    "# model.add(Dense(1,activation='sigmoid'))\n",
    "model.compile(loss = 'categorical_crossentropy', optimizer=keras.optimizers.Adam(0.0005),metrics = ['accuracy'])\n",
    "# model.compile(loss = 'binary_crossentropy', optimizer=keras.optimizers.Adam(0.0005),metrics = ['accuracy'])\n",
    "print(model.summary())"
   ]
  },
  {
   "cell_type": "code",
   "execution_count": 17,
   "metadata": {},
   "outputs": [
    {
     "name": "stdout",
     "output_type": "stream",
     "text": [
      "Epoch 1/16\n",
      "27/27 [==============================] - 10s 95ms/step - loss: 0.6133 - accuracy: 0.8727 - val_loss: 0.4954 - val_accuracy: 0.8727\n",
      "Epoch 2/16\n",
      "27/27 [==============================] - 1s 48ms/step - loss: 0.2992 - accuracy: 0.8727 - val_loss: 0.1920 - val_accuracy: 0.8727\n",
      "Epoch 3/16\n",
      "27/27 [==============================] - 1s 43ms/step - loss: 0.1562 - accuracy: 0.8958 - val_loss: 0.1215 - val_accuracy: 0.9398\n",
      "Epoch 4/16\n",
      "27/27 [==============================] - 1s 43ms/step - loss: 0.1260 - accuracy: 0.9583 - val_loss: 0.1177 - val_accuracy: 0.9769\n",
      "Epoch 5/16\n",
      "27/27 [==============================] - 1s 42ms/step - loss: 0.1058 - accuracy: 0.9653 - val_loss: 0.1015 - val_accuracy: 0.9769\n",
      "Epoch 6/16\n",
      "27/27 [==============================] - 1s 47ms/step - loss: 0.0860 - accuracy: 0.9769 - val_loss: 0.0797 - val_accuracy: 0.9745\n",
      "Epoch 7/16\n",
      "27/27 [==============================] - 1s 44ms/step - loss: 0.0883 - accuracy: 0.9745 - val_loss: 0.0763 - val_accuracy: 0.9769\n",
      "Epoch 8/16\n",
      "27/27 [==============================] - 1s 43ms/step - loss: 0.0757 - accuracy: 0.9745 - val_loss: 0.0716 - val_accuracy: 0.9769\n",
      "Epoch 9/16\n",
      "27/27 [==============================] - 1s 45ms/step - loss: 0.0731 - accuracy: 0.9769 - val_loss: 0.0687 - val_accuracy: 0.9769\n",
      "Epoch 10/16\n",
      "27/27 [==============================] - 1s 46ms/step - loss: 0.0670 - accuracy: 0.9769 - val_loss: 0.0671 - val_accuracy: 0.9769\n",
      "Epoch 11/16\n",
      "27/27 [==============================] - 1s 43ms/step - loss: 0.0729 - accuracy: 0.9745 - val_loss: 0.0697 - val_accuracy: 0.9769\n",
      "Epoch 12/16\n",
      "27/27 [==============================] - 1s 43ms/step - loss: 0.0688 - accuracy: 0.9769 - val_loss: 0.0662 - val_accuracy: 0.9769\n",
      "Epoch 13/16\n",
      "27/27 [==============================] - 1s 43ms/step - loss: 0.0663 - accuracy: 0.9769 - val_loss: 0.0650 - val_accuracy: 0.9769\n",
      "Epoch 14/16\n",
      "27/27 [==============================] - 1s 45ms/step - loss: 0.0662 - accuracy: 0.9745 - val_loss: 0.0648 - val_accuracy: 0.9769\n",
      "Epoch 15/16\n",
      "27/27 [==============================] - 1s 44ms/step - loss: 0.0663 - accuracy: 0.9769 - val_loss: 0.0639 - val_accuracy: 0.9769\n",
      "Epoch 16/16\n",
      "27/27 [==============================] - 1s 46ms/step - loss: 0.0621 - accuracy: 0.9769 - val_loss: 0.0630 - val_accuracy: 0.9769\n"
     ]
    }
   ],
   "source": [
    "history = model.fit(X_train, Y_train, epochs = 16, batch_size=16, verbose=1, validation_data=(X_train, Y_train))\n",
    "\n"
   ]
  },
  {
   "cell_type": "code",
   "execution_count": 18,
   "metadata": {},
   "outputs": [
    {
     "data": {
      "image/png": "[encoded data removed]",
      "text/plain": [
       "<Figure size 432x288 with 1 Axes>"
      ]
     },
     "metadata": {
      "needs_background": "light"
     },
     "output_type": "display_data"
    }
   ],
   "source": [
    "def plot_history(history):\n",
    "  plt.plot(history.history['accuracy'])\n",
    "  plt.plot(history.history['loss'])\n",
    "  plt.xlabel('epoch')\n",
    "  plt.legend(['accuracy', 'loss'], loc='upper left')\n",
    "  plt.show()\n",
    "\n",
    "plot_history(history)\n"
   ]
  },
  {
   "cell_type": "code",
   "execution_count": 19,
   "metadata": {},
   "outputs": [
    {
     "name": "stdout",
     "output_type": "stream",
     "text": [
      "3/3 [==============================] - 1s 55ms/step - loss: 0.0438 - accuracy: 0.9855\n"
     ]
    },
    {
     "data": {
      "text/plain": [
       "[0.04375438764691353, 0.9855072498321533]"
      ]
     },
     "execution_count": 19,
     "metadata": {},
     "output_type": "execute_result"
    }
   ],
   "source": [
    "model.evaluate(X_test, Y_test)"
   ]
  },
  {
   "cell_type": "code",
   "execution_count": 20,
   "metadata": {},
   "outputs": [
    {
     "name": "stdout",
     "output_type": "stream",
     "text": [
      "3/3 [==============================] - 1s 57ms/step\n",
      "7 [0.16513349 0.8348665 ]\n",
      "17 [0.16630104 0.8336989 ]\n",
      "18 [0.21844706 0.781553  ]\n",
      "53 [0.15809341 0.84190655]\n",
      "56 [0.16791196 0.832088  ]\n",
      "58 [0.1528613 0.8471387]\n",
      "60 [0.15643843 0.84356153]\n",
      "0.83068764\n"
     ]
    }
   ],
   "source": [
    "predits = model.predict(X_test)\n",
    "\n",
    "important_predicts = []\n",
    "\n",
    "for i in range(len(predits)):\n",
    "    item = predits[i]\n",
    "    value = item[1]\n",
    "    if value > 0.5:\n",
    "        print(i, item)\n",
    "        important_predicts.append(value)\n",
    "\n",
    "print(np.mean(important_predicts))\n",
    "\n"
   ]
  },
  {
   "cell_type": "code",
   "execution_count": 21,
   "metadata": {},
   "outputs": [
    {
     "name": "stderr",
     "output_type": "stream",
     "text": [
      "WARNING:absl:Found untraced functions such as lstm_cell_layer_call_fn, lstm_cell_layer_call_and_return_conditional_losses while saving (showing 2 of 2). These functions will not be directly callable after loading.\n"
     ]
    },
    {
     "name": "stdout",
     "output_type": "stream",
     "text": [
      "INFO:tensorflow:Assets written to: ../model/model_open\\assets\n"
     ]
    },
    {
     "name": "stderr",
     "output_type": "stream",
     "text": [
      "INFO:tensorflow:Assets written to: ../model/model_open\\assets\n"
     ]
    }
   ],
   "source": [
    "model.save('../model/model_open')\n"
   ]
  }
 ],
 "metadata": {
  "kernelspec": {
   "display_name": "Python 3.9.6 ('ml': venv)",
   "language": "python",
   "name": "python3"
  },
  "language_info": {
   "codemirror_mode": {
    "name": "ipython",
    "version": 3
   },
   "file_extension": ".py",
   "mimetype": "text/x-python",
   "name": "python",
   "nbconvert_exporter": "python",
   "pygments_lexer": "ipython3",
   "version": "3.9.6"
  },
  "orig_nbformat": 4,
  "vscode": {
   "interpreter": {
    "hash": "4cd2858a4c83a66b978afaceafd2aa0fa6b56b94a4c0d049b30d36a609f6e80c"
   }
  }
 },
 "nbformat": 4,
 "nbformat_minor": 2
}
