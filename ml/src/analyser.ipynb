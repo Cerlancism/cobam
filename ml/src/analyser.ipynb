{
 "cells": [
  {
   "cell_type": "code",
   "execution_count": 59,
   "metadata": {},
   "outputs": [],
   "source": [
    "import os\n",
    "import pandas as pd\n",
    "import re\n",
    "import numpy as np\n",
    "import glob\n",
    "\n",
    "from keras.models import Sequential\n",
    "from keras.layers import Dense, Embedding, LSTM, SpatialDropout1D\n",
    "from sklearn.model_selection import train_test_split\n",
    "from keras.utils.np_utils import to_categorical\n",
    "from tensorflow import keras\n",
    "\n",
    "from keras.preprocessing.text import Tokenizer\n",
    "from keras_preprocessing.sequence import pad_sequences\n",
    "\n",
    "import matplotlib.pyplot as plt"
   ]
  },
  {
   "cell_type": "code",
   "execution_count": 60,
   "metadata": {},
   "outputs": [
    {
     "name": "stdout",
     "output_type": "stream",
     "text": [
      "..\\data\\sample1.cbl Total Sections 94 94 important:  20\n",
      "..\\data\\sample2.cbl Total Sections 58 58 important:  13\n",
      "..\\data\\sample3.cbl Total Sections 37 37 important:  1\n",
      "..\\data\\sample4.cbl Total Sections 37 37 important:  1\n",
      "..\\data\\sample5.cbl Total Sections 81 81 important:  16\n",
      "..\\data\\sample6.cbl Total Sections 68 68 important:  16\n",
      "total:  375 importance rate 0.17866666666666667\n"
     ]
    }
   ],
   "source": [
    "# This was used to train and read on the original company code\n",
    "\n",
    "\n",
    "def read_cobol(file_path):\n",
    "    sections: list[str] = []\n",
    "    importances: list[int] = []\n",
    "    with open(file_path, \"r\", encoding=\"utf-8\") as file:\n",
    "        lines = file.readlines()\n",
    "\n",
    "    isin_section = False\n",
    "    reached_main = False\n",
    "    current_section = \"\"\n",
    "    for line in lines:\n",
    "        if not reached_main:\n",
    "            if \"PROCEDURE DIVISION.\" not in line:\n",
    "                continue\n",
    "            reached_main = True\n",
    "            isin_section = True\n",
    "            current_section = line\n",
    "            continue\n",
    "\n",
    "       \n",
    "        if \"SECTION.\" not in line:\n",
    "            if not isin_section:\n",
    "                continue\n",
    "            current_section += line\n",
    "            continue\n",
    "        \n",
    "        # print(\"Add section\", line)\n",
    "        isin_section = True\n",
    "        sections.append(current_section)\n",
    "        current_section = line\n",
    "        if \"*>IMPORTANT\" in line:\n",
    "            importances.append(1)\n",
    "        else:\n",
    "            importances.append(0)\n",
    "\n",
    "    print(file_path, \"Total Sections\", len(sections), len(importances), \"important: \", sum(importances))\n",
    "    return sections, importances\n",
    "\n",
    "files = glob.glob(\"..\\\\data\\\\*.cbl\")\n",
    "\n",
    "sections = []\n",
    "importances = []\n",
    "\n",
    "for file in files:\n",
    "    c_sections, c_importances = read_cobol(file)\n",
    "    sections = sections + c_sections\n",
    "    importances = importances + c_importances\n",
    "\n",
    "print(\"total: \", len(sections), \"importance rate\", sum(importances) / len(sections))"
   ]
  },
  {
   "cell_type": "code",
   "execution_count": 61,
   "metadata": {},
   "outputs": [
    {
     "name": "stdout",
     "output_type": "stream",
     "text": [
      "to 2570\n",
      "fwt 2528\n",
      "move 1862\n",
      "perform 1186\n",
      "map 1038\n",
      "exit 845\n",
      "end 691\n",
      "if 689\n",
      "issf100 522\n",
      "mod 515\n",
      "exec 448\n"
     ]
    }
   ],
   "source": [
    "data = pd.DataFrame({\"section\": sections, \"importances\": importances}, columns=[\"section\", \"importances\"])\n",
    "\n",
    "regex_target = \"[^a-zA-z0-9\\s\\-]\" # include -\n",
    "# regex_target = \"[^a-zA-z0-9\\s]\" # exclude -\n",
    "\n",
    "data['section'] = data['section'].apply((lambda x: re.sub(regex_target,'',x)))\n",
    "\n",
    "max_fatures = 2000\n",
    "tokenizer =  Tokenizer(num_words=max_fatures, split=' ', filters='-!\"#$%&()*+,./:;<=>?@[\\\\]^_`{|}~\\t\\n')\n",
    "tokenizer.fit_on_texts(data['section'].values)\n",
    "X = tokenizer.texts_to_sequences(data['section'].values)\n",
    "X = pad_sequences(X)\n",
    "\n",
    "\n",
    "# data\n",
    "for i in range(11):\n",
    "    word = list(tokenizer.word_index.keys())[i]\n",
    "    count = tokenizer.word_counts[word]\n",
    "    print(word, count)\n",
    "\n",
    "\n"
   ]
  },
  {
   "cell_type": "code",
   "execution_count": 62,
   "metadata": {},
   "outputs": [
    {
     "name": "stdout",
     "output_type": "stream",
     "text": [
      "Train size: 235\n",
      "Val size: 102\n",
      "Test size: 38\n"
     ]
    }
   ],
   "source": [
    "# Y = data['importances'] # for sigmoid\n",
    "Y = pd.get_dummies(data['importances']).values # for softmax\n",
    "X_train, X_test, Y_train, Y_test = train_test_split(X,Y, test_size = 0.1, random_state = 42)\n",
    "X_train, X_val, Y_train, Y_val = train_test_split(X_train, Y_train, test_size = 0.3, random_state = 42)\n",
    "\n",
    "print(\"Train size:\", len(X_train))\n",
    "print(\"Val size:\", len(X_val))\n",
    "print(\"Test size:\", len(X_test))"
   ]
  },
  {
   "cell_type": "code",
   "execution_count": 63,
   "metadata": {},
   "outputs": [
    {
     "name": "stdout",
     "output_type": "stream",
     "text": [
      "Model: \"sequential_5\"\n",
      "_________________________________________________________________\n",
      " Layer (type)                Output Shape              Param #   \n",
      "=================================================================\n",
      " embedding_5 (Embedding)     (None, 938, 32)           64000     \n",
      "                                                                 \n",
      " spatial_dropout1d_5 (Spatia  (None, 938, 32)          0         \n",
      " lDropout1D)                                                     \n",
      "                                                                 \n",
      " lstm_5 (LSTM)               (None, 32)                8320      \n",
      "                                                                 \n",
      " dense_5 (Dense)             (None, 2)                 66        \n",
      "                                                                 \n",
      "=================================================================\n",
      "Total params: 72,386\n",
      "Trainable params: 72,386\n",
      "Non-trainable params: 0\n",
      "_________________________________________________________________\n",
      "None\n"
     ]
    }
   ],
   "source": [
    "embed_dim = 32\n",
    "lstm_out = 32\n",
    "\n",
    "model = Sequential()\n",
    "model.add(Embedding(max_fatures, embed_dim, input_length = X.shape[1]))\n",
    "model.add(SpatialDropout1D(0.4))\n",
    "# model.add(LSTM(lstm_out, dropout=0.2, recurrent_dropout=0.2))\n",
    "model.add(LSTM(lstm_out, dropout=0.3))\n",
    "model.add(Dense(2,activation='softmax'))\n",
    "# model.add(Dense(1,activation='sigmoid'))\n",
    "model.compile(loss = 'categorical_crossentropy', optimizer=keras.optimizers.Adam(0.0005),metrics = ['accuracy'])\n",
    "# model.compile(loss = 'binary_crossentropy', optimizer=keras.optimizers.Adam(0.0005),metrics = ['accuracy'])\n",
    "print(model.summary())"
   ]
  },
  {
   "cell_type": "code",
   "execution_count": 64,
   "metadata": {},
   "outputs": [
    {
     "name": "stdout",
     "output_type": "stream",
     "text": [
      "Epoch 1/16\n",
      "15/15 [==============================] - 5s 131ms/step - loss: 0.6746 - accuracy: 0.7702 - val_loss: 0.6493 - val_accuracy: 0.8255\n",
      "Epoch 2/16\n",
      "15/15 [==============================] - 1s 65ms/step - loss: 0.6147 - accuracy: 0.8255 - val_loss: 0.5523 - val_accuracy: 0.8255\n",
      "Epoch 3/16\n",
      "15/15 [==============================] - 1s 63ms/step - loss: 0.4849 - accuracy: 0.8255 - val_loss: 0.4523 - val_accuracy: 0.8255\n",
      "Epoch 4/16\n",
      "15/15 [==============================] - 1s 64ms/step - loss: 0.4294 - accuracy: 0.8255 - val_loss: 0.4154 - val_accuracy: 0.8255\n",
      "Epoch 5/16\n",
      "15/15 [==============================] - 1s 76ms/step - loss: 0.4015 - accuracy: 0.8255 - val_loss: 0.3712 - val_accuracy: 0.8255\n",
      "Epoch 6/16\n",
      "15/15 [==============================] - 1s 95ms/step - loss: 0.3516 - accuracy: 0.8255 - val_loss: 0.3084 - val_accuracy: 0.8255\n",
      "Epoch 7/16\n",
      "15/15 [==============================] - 1s 74ms/step - loss: 0.2800 - accuracy: 0.8255 - val_loss: 0.2630 - val_accuracy: 0.8383\n",
      "Epoch 8/16\n",
      "15/15 [==============================] - 1s 75ms/step - loss: 0.2633 - accuracy: 0.8638 - val_loss: 0.2479 - val_accuracy: 0.8766\n",
      "Epoch 9/16\n",
      "15/15 [==============================] - 1s 76ms/step - loss: 0.2340 - accuracy: 0.8809 - val_loss: 0.2011 - val_accuracy: 0.8894\n",
      "Epoch 10/16\n",
      "15/15 [==============================] - 1s 76ms/step - loss: 0.2082 - accuracy: 0.9106 - val_loss: 0.2037 - val_accuracy: 0.9149\n",
      "Epoch 11/16\n",
      "15/15 [==============================] - 1s 74ms/step - loss: 0.1647 - accuracy: 0.9404 - val_loss: 0.1591 - val_accuracy: 0.9362\n",
      "Epoch 12/16\n",
      "15/15 [==============================] - 1s 72ms/step - loss: 0.1651 - accuracy: 0.9404 - val_loss: 0.1679 - val_accuracy: 0.9489\n",
      "Epoch 13/16\n",
      "15/15 [==============================] - 1s 62ms/step - loss: 0.1577 - accuracy: 0.9660 - val_loss: 0.1518 - val_accuracy: 0.9319\n",
      "Epoch 14/16\n",
      "15/15 [==============================] - 1s 62ms/step - loss: 0.1427 - accuracy: 0.9447 - val_loss: 0.1214 - val_accuracy: 0.9574\n",
      "Epoch 15/16\n",
      "15/15 [==============================] - 1s 62ms/step - loss: 0.1300 - accuracy: 0.9489 - val_loss: 0.1092 - val_accuracy: 0.9660\n",
      "Epoch 16/16\n",
      "15/15 [==============================] - 1s 62ms/step - loss: 0.1246 - accuracy: 0.9617 - val_loss: 0.0961 - val_accuracy: 0.9660\n"
     ]
    }
   ],
   "source": [
    "history = model.fit(X_train, Y_train, epochs = 16, batch_size=16, verbose=1, validation_data=(X_train, Y_train))"
   ]
  },
  {
   "cell_type": "code",
   "execution_count": 65,
   "metadata": {},
   "outputs": [
    {
     "data": {
      "image/png": "[encoded data removed]",
      "text/plain": [
       "<Figure size 432x288 with 1 Axes>"
      ]
     },
     "metadata": {
      "needs_background": "light"
     },
     "output_type": "display_data"
    }
   ],
   "source": [
    "def plot_history(history):\n",
    "  plt.plot(history.history['accuracy'])\n",
    "  plt.plot(history.history['loss'])\n",
    "  plt.xlabel('epoch')\n",
    "  plt.legend(['accuracy', 'loss'], loc='upper left')\n",
    "  plt.show()\n",
    "\n",
    "plot_history(history)\n"
   ]
  },
  {
   "cell_type": "code",
   "execution_count": 66,
   "metadata": {},
   "outputs": [
    {
     "name": "stdout",
     "output_type": "stream",
     "text": [
      "2/2 [==============================] - 0s 56ms/step - loss: 0.3335 - accuracy: 0.8947\n"
     ]
    },
    {
     "data": {
      "text/plain": [
       "[0.3334953784942627, 0.8947368264198303]"
      ]
     },
     "execution_count": 66,
     "metadata": {},
     "output_type": "execute_result"
    }
   ],
   "source": [
    "model.evaluate(X_test, Y_test)"
   ]
  },
  {
   "cell_type": "code",
   "execution_count": 67,
   "metadata": {},
   "outputs": [
    {
     "name": "stdout",
     "output_type": "stream",
     "text": [
      "2/2 [==============================] - 1s 94ms/step\n",
      "1 [0.20763707 0.79236287]\n",
      "2 [0.48042008 0.51957995]\n",
      "3 [0.2400217  0.75997823]\n",
      "7 [0.32373247 0.67626756]\n",
      "10 [0.22601347 0.7739865 ]\n",
      "20 [0.21398862 0.78601146]\n",
      "26 [0.25570336 0.74429667]\n",
      "30 [0.38799667 0.6120033 ]\n",
      "31 [0.41725194 0.58274806]\n",
      "34 [0.3107675  0.68923247]\n",
      "37 [0.3370016  0.66299844]\n",
      "0.6908605\n"
     ]
    }
   ],
   "source": [
    "predits = model.predict(X_test)\n",
    "\n",
    "important_predicts = []\n",
    "\n",
    "for i in range(len(predits)):\n",
    "    item = predits[i]\n",
    "    value = item[1]\n",
    "    if value > 0.5:\n",
    "        print(i, item)\n",
    "        important_predicts.append(value)\n",
    "\n",
    "print(np.mean(important_predicts))\n",
    "\n"
   ]
  }
 ],
 "metadata": {
  "kernelspec": {
   "display_name": "Python 3.9.6 ('ml': venv)",
   "language": "python",
   "name": "python3"
  },
  "language_info": {
   "codemirror_mode": {
    "name": "ipython",
    "version": 3
   },
   "file_extension": ".py",
   "mimetype": "text/x-python",
   "name": "python",
   "nbconvert_exporter": "python",
   "pygments_lexer": "ipython3",
   "version": "3.9.6"
  },
  "orig_nbformat": 4,
  "vscode": {
   "interpreter": {
    "hash": "4cd2858a4c83a66b978afaceafd2aa0fa6b56b94a4c0d049b30d36a609f6e80c"
   }
  }
 },
 "nbformat": 4,
 "nbformat_minor": 2
}
